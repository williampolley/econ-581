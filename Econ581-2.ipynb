{
 "cells": [
  {
   "cell_type": "markdown",
   "metadata": {},
   "source": [
    "# Econ 581\n",
    "# Bill Polley\n",
    "# Notes on Mathematical Economics\n",
    "\n",
    "## Matrices and Systems of Linear Equations\n",
    "Matrices are a very convenient and efficient way to represent a linear equation or system of equations. Because matrices are used to represent linear equations, the name of the course in which these concepts are first explored in depth is often called \"Linear Algebra.\"  If you have had a course in linear algebra, this will largely be review. However, you will now see how to use the computer to make solving these systems of equations easier.\n",
    "\n",
    "Suppose we have a system of equations given by:\n",
    "\n",
    "$$x_1 + 2x_2 + x_3 = 0$$\n",
    "\n",
    "$$2x_1 + 3x_2 - 2x_3 = 1$$\n",
    "\n",
    "$$-x_1 + 2x_2 + 5x_3 = 2$$\n",
    "\n",
    "We can write this system as $Ax = B$ where:\n",
    "\n",
    "\\begin{equation*}\n",
    "A = \n",
    "\\begin{bmatrix}\n",
    "1 & 2 & 1 \\\\\n",
    "2 & 3 & -2 \\\\\n",
    "-1 & 2 & 5\n",
    "\\end{bmatrix}\n",
    ", x =\n",
    "\\begin{bmatrix}\n",
    "x_{1} \\\\\n",
    "x_{2} \\\\\n",
    "x_{3} \\\\\n",
    "\\end{bmatrix}\n",
    ", B =\n",
    "\\begin{bmatrix}\n",
    "0 \\\\\n",
    "1 \\\\\n",
    "2 \\\\\n",
    "\\end{bmatrix}\n",
    "\\end{equation*}\n",
    "\n",
    "The shorthand afforded by matrix notation becomes apparent. In applications where repeated references are made to a system of equations, the space saved by this notation can be significant. More importantly, we can perform certain operations on matrices just as we might perform those operations on the equations they represent. If you have not had a course in linear algebra and this material is new to you, you should review any text on mathematical economics. In class, I will take some time to explain matrix operations in more detail using the code below. It is important that you have an understanding of how matrix arithmetic works and not rely entirely on the computer.\n",
    "\n",
    "At this point it is worth noting that a tremendous amount of work in economics requires the use of matrix algebra.  Linear regression, which you will encounter in your econometrics courses, is essentially a matrix algebra problem.  That is, performing a least-squares regression involves solving a system of equations that can be represented by matrices.  It is also the case that many non-linear problems such as solving a stochastic dynamic general equilibrium model can be approximated by a linear model and solved very quickly and to a high degree of precision on a computer using matrix algebra techniques.\n",
    "\n",
    "### Creating matrices and matrix arithmetic\n",
    "In NumPy, we create a matrix with `np.array`. An $N\\times1$ vector would simply be something like this:"
   ]
  },
  {
   "cell_type": "code",
   "execution_count": 1,
   "metadata": {},
   "outputs": [
    {
     "name": "stdout",
     "output_type": "stream",
     "text": [
      "[5 3]\n"
     ]
    }
   ],
   "source": [
    "import numpy as np\n",
    "m_1=np.array([5,3])\n",
    "print(m_1)"
   ]
  },
  {
   "cell_type": "markdown",
   "metadata": {},
   "source": [
    "Note that when you print the vector it prints horizontally, but in calculations involving matrix multiplication, this will represent the vector\n",
    "\n",
    "\\begin{bmatrix}\n",
    "5 \\\\\n",
    "3 \\\\\n",
    "\\end{bmatrix}\n",
    "\n",
    "In fact, as we shall see, one-dimensional vectors can be treated as either a row or a column depending on the context. While somewhat mathematically ambiguous, it does make for more efficient code writing.\n",
    "\n",
    "Here is an example of a $2\\times2$ matrix:"
   ]
  },
  {
   "cell_type": "code",
   "execution_count": 3,
   "metadata": {},
   "outputs": [
    {
     "name": "stdout",
     "output_type": "stream",
     "text": [
      "[[4 3]\n",
      " [2 0]]\n"
     ]
    }
   ],
   "source": [
    "m_2=np.array([[4,3],[2,0]])\n",
    "print(m_2)"
   ]
  },
  {
   "cell_type": "markdown",
   "metadata": {},
   "source": [
    "NumPy has a method to return the shape of a matrix."
   ]
  },
  {
   "cell_type": "code",
   "execution_count": 4,
   "metadata": {},
   "outputs": [
    {
     "name": "stdout",
     "output_type": "stream",
     "text": [
      "(2,)\n",
      "(2, 2)\n"
     ]
    }
   ],
   "source": [
    "print(m_1.shape)\n",
    "print(m_2.shape)"
   ]
  },
  {
   "cell_type": "markdown",
   "metadata": {},
   "source": [
    "In a two-dimensional (2-D) array, we can extract a row using the following syntax:"
   ]
  },
  {
   "cell_type": "code",
   "execution_count": 5,
   "metadata": {},
   "outputs": [
    {
     "data": {
      "text/plain": [
       "array([4, 3])"
      ]
     },
     "execution_count": 5,
     "metadata": {},
     "output_type": "execute_result"
    }
   ],
   "source": [
    "m_2[0]"
   ]
  },
  {
   "cell_type": "code",
   "execution_count": 6,
   "metadata": {},
   "outputs": [
    {
     "data": {
      "text/plain": [
       "array([2, 0])"
      ]
     },
     "execution_count": 6,
     "metadata": {},
     "output_type": "execute_result"
    }
   ],
   "source": [
    "m_2[1]"
   ]
  },
  {
   "cell_type": "markdown",
   "metadata": {},
   "source": [
    "To extract a single element, identify the row first, then the column."
   ]
  },
  {
   "cell_type": "code",
   "execution_count": 7,
   "metadata": {},
   "outputs": [
    {
     "data": {
      "text/plain": [
       "3"
      ]
     },
     "execution_count": 7,
     "metadata": {},
     "output_type": "execute_result"
    }
   ],
   "source": [
    "m_2[0,1]"
   ]
  },
  {
   "cell_type": "markdown",
   "metadata": {},
   "source": [
    "To extract a column, we use the colon in place of an index for the row to indicate we want all rows of this column."
   ]
  },
  {
   "cell_type": "code",
   "execution_count": 8,
   "metadata": {},
   "outputs": [
    {
     "data": {
      "text/plain": [
       "array([4, 2])"
      ]
     },
     "execution_count": 8,
     "metadata": {},
     "output_type": "execute_result"
    }
   ],
   "source": [
    "m_2[:,0]"
   ]
  },
  {
   "cell_type": "markdown",
   "metadata": {},
   "source": [
    "Note that the index of elements in an array in NumPy (and Python generally) begins at zero, not one.\n",
    "\n",
    "We now turn our attention to matrix arithmetic. In formal mathematics there are strict rules on matrix arithmetic. Computer languages like Python sometimes take liberties with these rules to allow you to do things using syntax that is not mathematically correct. This is a nice feature because it allows people who know what they are doing to write code that is a little more compact. However, it could cause things to behave unexpectedly if you don't know what you are doing because it will not flag something as an error that is mathematically invalid.\n",
    "\n",
    "An example will illustrate the need to be careful. In matrix arithmetic, addition and subtraction can only be carried out on matrices of the same number of both rows and columns. If you add two matrices, you add the corresponding elements of the two matrices to form the new matrix. Let's define another $2\\times2$ matrix."
   ]
  },
  {
   "cell_type": "code",
   "execution_count": 9,
   "metadata": {},
   "outputs": [
    {
     "name": "stdout",
     "output_type": "stream",
     "text": [
      "[[1 4]\n",
      " [0 7]]\n"
     ]
    }
   ],
   "source": [
    "m_3=np.array([[1,4],[0,7]])\n",
    "print(m_3)"
   ]
  },
  {
   "cell_type": "code",
   "execution_count": 10,
   "metadata": {},
   "outputs": [
    {
     "data": {
      "text/plain": [
       "array([[5, 7],\n",
       "       [2, 7]])"
      ]
     },
     "execution_count": 10,
     "metadata": {},
     "output_type": "execute_result"
    }
   ],
   "source": [
    "m_2+m_3"
   ]
  },
  {
   "cell_type": "markdown",
   "metadata": {},
   "source": [
    "As you can see the result is obtained by adding the corresponding elements of $m_2$ and $m_3$.\n",
    "\n",
    "So what will NumPy do if we try to do addition with matrices of different dimensions (a mathematically illegal operation)? Let's find out."
   ]
  },
  {
   "cell_type": "code",
   "execution_count": 11,
   "metadata": {},
   "outputs": [
    {
     "data": {
      "text/plain": [
       "array([[9, 6],\n",
       "       [7, 3]])"
      ]
     },
     "execution_count": 11,
     "metadata": {},
     "output_type": "execute_result"
    }
   ],
   "source": [
    "m_1+m_2"
   ]
  },
  {
   "cell_type": "markdown",
   "metadata": {},
   "source": [
    "NumPy interpreted $m_1$ as a row vector and add it to *each* row of $m_2$. Now this is not valid mathematics, but it is valid Python code. Why? Perhaps you really wanted to subtract the value of $m_1$ from each row of $m_2$. To do that in a mathematically valid way, you would need to create another matrix with $m_1$ copied into each row. That uses up memory (if these are really big matrices it could be significant). NumPy trusts that you know what you are doing and delivers what it figures you really meant, even though it is not a valid mathematical expression as it is written. So be careful!\n",
    "\n",
    "In linear algebra, matrix multiplication can only take place between two matrices that are compatible. If we want to multiply matrices $A$ and $B$, it must be the case that $A$ is $N\\times M$ and $B$ is $M\\times N$. In NumPy, matrix multiplication is done with the `@` operator."
   ]
  },
  {
   "cell_type": "code",
   "execution_count": 12,
   "metadata": {},
   "outputs": [
    {
     "data": {
      "text/plain": [
       "array([[22, 12],\n",
       "       [ 8,  6]])"
      ]
     },
     "execution_count": 12,
     "metadata": {},
     "output_type": "execute_result"
    }
   ],
   "source": [
    "m_2@m_2"
   ]
  },
  {
   "cell_type": "code",
   "execution_count": 13,
   "metadata": {},
   "outputs": [
    {
     "data": {
      "text/plain": [
       "array([[ 4, 37],\n",
       "       [ 2,  8]])"
      ]
     },
     "execution_count": 13,
     "metadata": {},
     "output_type": "execute_result"
    }
   ],
   "source": [
    "m_2@m_3"
   ]
  },
  {
   "cell_type": "code",
   "execution_count": 14,
   "metadata": {},
   "outputs": [
    {
     "data": {
      "text/plain": [
       "array([[12,  3],\n",
       "       [14,  0]])"
      ]
     },
     "execution_count": 14,
     "metadata": {},
     "output_type": "execute_result"
    }
   ],
   "source": [
    "m_3@m_2"
   ]
  },
  {
   "cell_type": "markdown",
   "metadata": {},
   "source": [
    "In matrix multiplication, the order matters. If $A$ is $N\\times M$, $B$ is $M\\times N$, and $M$ does not equal $N$, then we cannot reverse the order and multiply $B$ times $A$. Matrix multiplication is not commutative. We can multiply a $2\\times 2$ matrix and a $2\\times 1$ vector like this:"
   ]
  },
  {
   "cell_type": "code",
   "execution_count": 15,
   "metadata": {},
   "outputs": [
    {
     "data": {
      "text/plain": [
       "array([29, 10])"
      ]
     },
     "execution_count": 15,
     "metadata": {},
     "output_type": "execute_result"
    }
   ],
   "source": [
    "m_2@m_1"
   ]
  },
  {
   "cell_type": "markdown",
   "metadata": {},
   "source": [
    "However, we can't reverse the order and multiply $m_1$ times $m_2$.\n",
    "\n",
    "Or can we?"
   ]
  },
  {
   "cell_type": "code",
   "execution_count": 16,
   "metadata": {},
   "outputs": [
    {
     "data": {
      "text/plain": [
       "array([26, 15])"
      ]
     },
     "execution_count": 16,
     "metadata": {},
     "output_type": "execute_result"
    }
   ],
   "source": [
    "m_1@m_2"
   ]
  },
  {
   "cell_type": "markdown",
   "metadata": {},
   "source": [
    "What's going on? Again, Python is assuming that we know what we are doing and that we acutally mean for $m_1$ to be interpreted as a $1\\times 2$ row vector rather than a $2\\times 1$ column vector. So it lets us do the operation. As long as you know what you are doing this is fine. Just be aware of the potential for things to behave strangely but not fail with an error if you mix up the order of your multiplication."
   ]
  },
  {
   "cell_type": "markdown",
   "metadata": {},
   "source": [
    "There are a few other things that are worth demonstrating.\n",
    "\n",
    "Scalar multiplication:"
   ]
  },
  {
   "cell_type": "code",
   "execution_count": 17,
   "metadata": {},
   "outputs": [
    {
     "data": {
      "text/plain": [
       "array([10,  6])"
      ]
     },
     "execution_count": 17,
     "metadata": {},
     "output_type": "execute_result"
    }
   ],
   "source": [
    "2*m_1"
   ]
  },
  {
   "cell_type": "markdown",
   "metadata": {},
   "source": [
    "Dot product:"
   ]
  },
  {
   "cell_type": "code",
   "execution_count": 18,
   "metadata": {},
   "outputs": [
    {
     "data": {
      "text/plain": [
       "32"
      ]
     },
     "execution_count": 18,
     "metadata": {},
     "output_type": "execute_result"
    }
   ],
   "source": [
    "m_4=np.array([1,2,3])\n",
    "m_5=np.array([4,5,6])\n",
    "np.dot(m_4,m_5)"
   ]
  },
  {
   "cell_type": "markdown",
   "metadata": {},
   "source": [
    "The indentity matrix:"
   ]
  },
  {
   "cell_type": "code",
   "execution_count": 19,
   "metadata": {},
   "outputs": [
    {
     "data": {
      "text/plain": [
       "array([[1., 0., 0., 0., 0.],\n",
       "       [0., 1., 0., 0., 0.],\n",
       "       [0., 0., 1., 0., 0.],\n",
       "       [0., 0., 0., 1., 0.],\n",
       "       [0., 0., 0., 0., 1.]])"
      ]
     },
     "execution_count": 19,
     "metadata": {},
     "output_type": "execute_result"
    }
   ],
   "source": [
    "np.identity(5)"
   ]
  },
  {
   "cell_type": "markdown",
   "metadata": {},
   "source": [
    "Transpose:"
   ]
  },
  {
   "cell_type": "code",
   "execution_count": 20,
   "metadata": {},
   "outputs": [
    {
     "name": "stdout",
     "output_type": "stream",
     "text": [
      "[[4 2]\n",
      " [3 0]]\n"
     ]
    }
   ],
   "source": [
    "m_6=np.transpose(m_2)\n",
    "print(m_6)"
   ]
  },
  {
   "cell_type": "markdown",
   "metadata": {},
   "source": [
    "Inverse:"
   ]
  },
  {
   "cell_type": "code",
   "execution_count": 21,
   "metadata": {},
   "outputs": [
    {
     "name": "stdout",
     "output_type": "stream",
     "text": [
      "[[ 1.38777878e-17  5.00000000e-01]\n",
      " [ 3.33333333e-01 -6.66666667e-01]]\n",
      "[[1.00000000e+00 0.00000000e+00]\n",
      " [2.77555756e-17 1.00000000e+00]]\n"
     ]
    }
   ],
   "source": [
    "m_7=np.linalg.inv(m_2)\n",
    "print(m_7)\n",
    "print(m_2@m_7)"
   ]
  },
  {
   "cell_type": "markdown",
   "metadata": {},
   "source": [
    "Note the issues with numerical precision we saw before. \n",
    "\n",
    "Be sure to read the documentation on [arrays](https://numpy.org/doc/stable/reference/routines.array-manipulation.html) and [linear algebra](https://numpy.org/doc/stable/reference/routines.linalg.html) in NumPy for more details."
   ]
  },
  {
   "cell_type": "markdown",
   "metadata": {},
   "source": [
    "### Solving systems of linear equations using matrix algebra\n",
    "All of the examples that we worked through in the previous section are leading us up to the main purpose of this lecture-- to demonstrate the methods of matrix algebra as they are used to solve systems of linear equations.  The most important aspect of this method of solving linear systems is the concept of the inverse of a matrix.  The importance of the inverse is apparent when we consider the matrix equation we wish to solve.\n",
    "\n",
    "$$Ax = B$$\n",
    "\n",
    "$$A^{-1}Ax = A^{-1}B$$\n",
    "\n",
    "$$x = A^{-1}B$$\n",
    "\n",
    "In other words, the solution to the system of equations depends critically on whether or not the coefficient matrix, $A$, can be inverted or not. A matrix that can be inverted is called a nonsingular matrix, while one that cannot be inverted is referred to as a singular matrix. Note that a nonsingular matrix must be square (same number of rows and columns). That is, squareness is a necessary condition for the invertibility of a matrix, but it is not sufficient. Not all square matrices are nonsingular, but all nonsingular matricies are square. Also, if an inverse exists, it is unique.\n",
    "\n",
    "The equation above may lead you to believe that solving linear systems is easy if you can invert a matrix, and that would indeed be true. The catch is that inverting large matrices is extremely difficult without a computer. Even with a computer, very large matrices can take some time to invert.\n",
    "\n",
    "In the next sections, we will demonstrate how to test for nonsingularity and how to use NumPy to solve systems using these methods. You can use the notebook to take notes as we go through the examples. The honest truth is that as a practicing economist it is almost inconceivable that you would need to invert a matrix by hand. (I've never had to!) So we are not going to belabor the point about how to do it by hand. The puprose is to show you how it works in enough detail so that you have a good understanding of what the computer is doing, that you know how to set things up properly to make it do the job, and that you can detect problems in your code.\n",
    "\n",
    "#### Tests for nonsigularity\n",
    "As stated above, the necessary condition for a matrix to be nonsingular is that it be square, or $n\\times n$.  A sufficient condition for nonsingularity is that all of the rows (and columns) are linearly independent.  That is, there is no way to express any row (or column) as the linear combination of other rows (or columns.  A linear combination is the sum or difference of scalar multiples of the rows or columns.\n",
    "\n",
    "To see what is meant by this, consider the matrix,"
   ]
  },
  {
   "cell_type": "markdown",
   "metadata": {},
   "source": [
    "\\begin{bmatrix}\n",
    "1 & 2 & 3 \\\\\n",
    "4 & 5 & 6 \\\\\n",
    "7 & 8 & 9\n",
    "\\end{bmatrix}"
   ]
  },
  {
   "cell_type": "markdown",
   "metadata": {},
   "source": [
    "Note that the third row, $\\begin{bmatrix}7 & 8 & 9\\end{bmatrix}$, is the sum of two times the second row minus the first row. $$2\\begin{bmatrix}4 & 5 & 6\\end{bmatrix}=\\begin{bmatrix}8 & 10 & 12\\end{bmatrix}$$\n",
    "$$\\begin{bmatrix}8 & 10 & 12\\end{bmatrix}-\\begin{bmatrix}1 & 2 & 3\\end{bmatrix}=\\begin{bmatrix}7 & 8 & 9\\end{bmatrix}$$. \n",
    "\n",
    "Because the third row can be expressed as a linear combination of the other two rows, this matrix is singular. It does not have an inverse. If we try to invert the matrix, the results are somewhat unpredictable. Sometimes it will produce a \"Singular matrix\" error. Sometimes it will return an answer that is clearly wrong in that it returns an array with values approaching the largest number the computer can express. [This is a known issue in NumPy](https://github.com/numpy/numpy/issues/10471), and there are ways to deal with it. We will not explore it further here since we are doing this mainly for illustration."
   ]
  },
  {
   "cell_type": "code",
   "execution_count": 16,
   "metadata": {},
   "outputs": [
    {
     "name": "stdout",
     "output_type": "stream",
     "text": [
      "[[1 2 3]\n",
      " [4 5 6]\n",
      " [7 8 9]]\n"
     ]
    },
    {
     "data": {
      "text/plain": [
       "array([[ 3.15251974e+15, -6.30503948e+15,  3.15251974e+15],\n",
       "       [-6.30503948e+15,  1.26100790e+16, -6.30503948e+15],\n",
       "       [ 3.15251974e+15, -6.30503948e+15,  3.15251974e+15]])"
      ]
     },
     "execution_count": 16,
     "metadata": {},
     "output_type": "execute_result"
    }
   ],
   "source": [
    "m=np.arange(1,10,1).reshape(3,3) #this is a quick way to create the matrix...I will explain in class!\n",
    "print(m)\n",
    "np.linalg.inv(m)"
   ]
  },
  {
   "cell_type": "markdown",
   "metadata": {},
   "source": [
    "The rank of a matrix is the number of linearly independent rows or columns. For an $m\\times n$ matrix, the rank is at most the smaller of $m$ and $n$.  For a square matrix $n\\times n$, the rank is at most $n$, and furthermore, if the rank equals $n$, then the matrix is nonsingular.\n",
    "\n",
    "The NumPy function `np.linalg.matrix_rank()` will find the rank of a matrix. If you are writing code that will be attempting to find the inverse of an arbitrary matrix, it is a good idea to check the rank of the matrix before trying to invert the matrix. The rank of the example matrix above, is 2 because there are two linearly independent rows.  The third row is a linear combination of the other two. The function `np.linalg.cond()` can also be used. See the [documentation](https://numpy.org/doc/stable/reference/generated/numpy.linalg.cond.html)."
   ]
  },
  {
   "cell_type": "code",
   "execution_count": 17,
   "metadata": {},
   "outputs": [
    {
     "data": {
      "text/plain": [
       "2"
      ]
     },
     "execution_count": 17,
     "metadata": {},
     "output_type": "execute_result"
    }
   ],
   "source": [
    "np.linalg.matrix_rank(m)"
   ]
  },
  {
   "cell_type": "markdown",
   "metadata": {},
   "source": [
    "If no row or column is a linear combination of any others, then the matrix is said to have \"full rank.\"  For example, modify the previous case slightly by changing the 6 in the 2nd row to a 7. Remember, indexes start at zero!"
   ]
  },
  {
   "cell_type": "code",
   "execution_count": 18,
   "metadata": {},
   "outputs": [
    {
     "data": {
      "text/plain": [
       "3"
      ]
     },
     "execution_count": 18,
     "metadata": {},
     "output_type": "execute_result"
    }
   ],
   "source": [
    "m[1,2]=7\n",
    "np.linalg.matrix_rank(m)"
   ]
  },
  {
   "cell_type": "markdown",
   "metadata": {},
   "source": [
    "Because the matrix is full rank, it can be inverted."
   ]
  },
  {
   "cell_type": "code",
   "execution_count": 19,
   "metadata": {},
   "outputs": [
    {
     "data": {
      "text/plain": [
       "array([[-1.83333333,  1.        , -0.16666667],\n",
       "       [ 2.16666667, -2.        ,  0.83333333],\n",
       "       [-0.5       ,  1.        , -0.5       ]])"
      ]
     },
     "execution_count": 19,
     "metadata": {},
     "output_type": "execute_result"
    }
   ],
   "source": [
    "np.linalg.inv(m)"
   ]
  },
  {
   "cell_type": "markdown",
   "metadata": {},
   "source": [
    "#### Determinants\n",
    "The determinant of a matrix can also be used to determine (hence the name) whether a matrix is nonsingular. The determinant is only defined for square matrices.\n",
    "\n",
    "\\begin{equation*}\n",
    "A = \n",
    "\\begin{bmatrix}\n",
    "a_{11} & a_{12} \\\\\n",
    "a_{21} & a_{22} \\\\\n",
    "\\end{bmatrix}\n",
    "\\end{equation*}\n",
    "\\begin{equation*}\n",
    "det(A) = a_{11}a_{22} - a_{12}a_{21}\n",
    "\\end{equation*}\n",
    "\n",
    "If you know that the matrix is square, you may use the function `np.linalg.det()` to find the determinant. For a $2\\times 2$ matrix, the determinant is found by multiplying the elements of what is referred to as the principal diagonal (top left to bottom right) and subtracting the product of the other diagonal (top right to bottom left).\n",
    "\n",
    "The matrix has an inverse if and only if the determinant is nonzero. Referring to our previous example,"
   ]
  },
  {
   "cell_type": "code",
   "execution_count": 20,
   "metadata": {},
   "outputs": [
    {
     "name": "stdout",
     "output_type": "stream",
     "text": [
      "[[1 2 3]\n",
      " [4 5 6]\n",
      " [7 8 9]]\n"
     ]
    },
    {
     "data": {
      "text/plain": [
       "-9.51619735392994e-16"
      ]
     },
     "execution_count": 20,
     "metadata": {},
     "output_type": "execute_result"
    }
   ],
   "source": [
    "m=np.arange(1,10,1).reshape(3,3)\n",
    "print(m)\n",
    "np.linalg.det(m)"
   ]
  },
  {
   "cell_type": "markdown",
   "metadata": {},
   "source": [
    "Again, it is close to zero--numerical precision being an issue."
   ]
  },
  {
   "cell_type": "code",
   "execution_count": 21,
   "metadata": {},
   "outputs": [
    {
     "data": {
      "text/plain": [
       "6.0"
      ]
     },
     "execution_count": 21,
     "metadata": {},
     "output_type": "execute_result"
    }
   ],
   "source": [
    "m[1,2]=7\n",
    "np.linalg.det(m)"
   ]
  },
  {
   "cell_type": "markdown",
   "metadata": {},
   "source": [
    "The original matrix (which we know is not full rank) has a determinant of zero. But the modified matrix has a nonzero determinant.\n",
    "\n",
    "A $2\\times 2$ determinant is easy to calculate by hand. Higher order determinants are not as easy to do by hand, but in principle they can be done. See any linear algebra or math econ textbook for details (for example, pp. 94-98 in the 3rd edition of Chiang's text). It is not critical for our purposes to calculate higher order determinants by hand since the computer does so very efficiently.\n",
    "\n",
    "The determinant is not only useful in determining whether or not a matrix is singular, it also can be used in the process of finding the inverse. But first we need to define the adjoint of a matrix.\n",
    "\n",
    "The adjoint of a matrix is the matrix of the determinants of the cofactors of the matrix. Each element of the adjoint is the determinant of the corresponding cofactor of the original matrix. The cofactor for element $(i,j)$ is $(-1)^{(i+j)}$ times the matrix that remains when row $i$ and column $j$ are deleted.\n",
    "\n",
    "Once we know the adjoint, and if the determinant of the original matrix is non-zero, we can find the inverse. See any linear algebra text for details. Here is some code that will do it. We will need to use a function from another package, SymPy, so we will import that as the first step. Since we will not be making a lot of use of SymPy in this course, I will not go into detail here. Read the [documentation](https://docs.sympy.org/latest/index.html) if you are interested."
   ]
  },
  {
   "cell_type": "code",
   "execution_count": 22,
   "metadata": {},
   "outputs": [
    {
     "name": "stdout",
     "output_type": "stream",
     "text": [
      "[[19. -8. -7.]\n",
      " [-8.  6.  4.]\n",
      " [ 7. -4. -1.]]\n"
     ]
    }
   ],
   "source": [
    "from sympy import Matrix\n",
    "a=Matrix([[1,2,1],[2,3,-2],[-1,2,5]]) #create a as a Matrix object\n",
    "#use the adjugate (i.e. adjoint) method in SymPy to find the adjoint\n",
    "#and convert it back to a NumPy array\n",
    "a_adj=np.array(Matrix.tolist(a.adjugate())).astype(np.float64)\n",
    "#convert the matrix a to a NumPy array for future operations\n",
    "a=np.array(Matrix.tolist(a)).astype(np.float64)\n",
    "print(a_adj)"
   ]
  },
  {
   "cell_type": "markdown",
   "metadata": {},
   "source": [
    "The inverse of our original matrix, $m$, is then found by multiplying $1/det(m)$ by the adjoint of $m$. You can use scalar multiplication (division) to obtain this."
   ]
  },
  {
   "cell_type": "code",
   "execution_count": 23,
   "metadata": {},
   "outputs": [
    {
     "name": "stdout",
     "output_type": "stream",
     "text": [
      "[[ 1.9 -0.8 -0.7]\n",
      " [-0.8  0.6  0.4]\n",
      " [ 0.7 -0.4 -0.1]]\n"
     ]
    }
   ],
   "source": [
    "print(a_adj/np.linalg.det(a))"
   ]
  },
  {
   "cell_type": "code",
   "execution_count": 24,
   "metadata": {},
   "outputs": [
    {
     "name": "stdout",
     "output_type": "stream",
     "text": [
      "[[ 1.9 -0.8 -0.7]\n",
      " [-0.8  0.6  0.4]\n",
      " [ 0.7 -0.4 -0.1]]\n"
     ]
    }
   ],
   "source": [
    "print(np.linalg.inv(a))"
   ]
  },
  {
   "cell_type": "markdown",
   "metadata": {},
   "source": [
    "As you can see, we obtain the same answer as the inverse function. The point of this exercise was to show you one method of actually computing the inverse by hand. The task could be accomplished by computing a lot of determinants, which is tedious, but doable. Fortunately modern computers can automate this task very easily.\n",
    "\n",
    "#### Cramer's Rule\n",
    "Recall from the beginning of this section the system of equations in matrix form:\n",
    "\n",
    "\\begin{equation*}\n",
    "A = \n",
    "\\begin{bmatrix}\n",
    "1 & 2 & 1 \\\\\n",
    "2 & 3 & -2 \\\\\n",
    "-1 & 2 & 5\n",
    "\\end{bmatrix}\n",
    ", x =\n",
    "\\begin{bmatrix}\n",
    "x_{1} \\\\\n",
    "x_{2} \\\\\n",
    "x_{3} \\\\\n",
    "\\end{bmatrix}\n",
    ", B =\n",
    "\\begin{bmatrix}\n",
    "0 \\\\\n",
    "1 \\\\\n",
    "2 \\\\\n",
    "\\end{bmatrix}\n",
    "\\end{equation*}\n",
    "\n",
    "Since we know that $A^{-1} = adj(A)/det(A)$, we merely need to multply that result by the column vector, $b$, to obtain the vector of solutions, $x$. Cramer's Rule then follows immediately.\n",
    "\n",
    "$$x_i = \\frac{det(A_i)}{det(A)}$$\n",
    "for all $i = 1, 2, ..., n$ where $A_i$ is the original matrix, $A$, with the column vector $b$ taking the place of the original column $i$.\n",
    "\n",
    "Thus,"
   ]
  },
  {
   "cell_type": "code",
   "execution_count": 25,
   "metadata": {},
   "outputs": [
    {
     "name": "stdout",
     "output_type": "stream",
     "text": [
      "[-2.2  1.4 -0.6]\n"
     ]
    }
   ],
   "source": [
    "a=np.array([[1,2,1],[2,3,-2],[-1,2,5]])\n",
    "b=np.array([0,1,2])\n",
    "sol=np.empty(np.linalg.matrix_rank(a))\n",
    "ai=np.empty(shape=(np.linalg.matrix_rank(a),np.linalg.matrix_rank(a)))\n",
    "for i in range(np.linalg.matrix_rank(a)):\n",
    "    for j in range(np.linalg.matrix_rank(a)):\n",
    "        if i==j:\n",
    "            ai[:,j]=b\n",
    "        else:\n",
    "            ai[:,j]=a[:,j]\n",
    "    sol[i]=np.linalg.det(ai)/np.linalg.det(a)\n",
    "print(sol)"
   ]
  },
  {
   "cell_type": "markdown",
   "metadata": {},
   "source": [
    "Don't worry about understanding all the code at this point. I will go over it step by step in class. As a confirmation of our work, let's compare it to the NumPy function solve."
   ]
  },
  {
   "cell_type": "code",
   "execution_count": 26,
   "metadata": {},
   "outputs": [
    {
     "name": "stdout",
     "output_type": "stream",
     "text": [
      "[-2.2  1.4 -0.6]\n"
     ]
    }
   ],
   "source": [
    "print(np.linalg.solve(a,b))"
   ]
  },
  {
   "cell_type": "markdown",
   "metadata": {},
   "source": [
    "So we have now come full circle and illustrated how to solve systems of linear equations the old fashioned way (the way that we used to have to do it by hand), and shown that we get the same result as the one line function. And you learned a little linear algebra in the process. In most of your work as an economist or data scientist, you will not need to do it by hand or implement an old fashioned method on the computer. You will just use the solve function. It is nice, though, to know where things come from."
   ]
  }
 ],
 "metadata": {
  "kernelspec": {
   "display_name": "Python 3",
   "language": "python",
   "name": "python3"
  },
  "language_info": {
   "codemirror_mode": {
    "name": "ipython",
    "version": 3
   },
   "file_extension": ".py",
   "mimetype": "text/x-python",
   "name": "python",
   "nbconvert_exporter": "python",
   "pygments_lexer": "ipython3",
   "version": "3.7.4"
  }
 },
 "nbformat": 4,
 "nbformat_minor": 2
}
