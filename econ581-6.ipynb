{
 "cells": [
  {
   "cell_type": "markdown",
   "metadata": {},
   "source": [
    "# Econ 581\n",
    "# Bill Polley\n",
    "# Notes on Mathematical Economics\n",
    "\n",
    "## Comparative Statics\n",
    "Many times we are interested in how changes in one of the parameters may affect the choice variables and therefore the equilibrium outcomes. For example, how does a change in government spending effect labor and consumption choices? This branch of analysis is called \"comparative statics.\" It is not dynamics. It is simply just as it sounds, the comparision of two static equilibria. This set of notes explores this concept by way of examples in which you can see how to solve the problem both by hand and by computer."
   ]
  },
  {
   "cell_type": "markdown",
   "metadata": {},
   "source": [
    "### A competitive equilibrium model with government\n",
    "This section discusses an example of the Lagrange method in the way that it might be presented in a graduate level macroeconomics course.\n",
    "\n",
    "Here we present a model of a very simple macroeconomy with government, but without investment or net exports. Recall from your principles of macro that $Y = C + I + G + NX$. Without investment or net exports, this model reduces to $Y = C + G$. It is a general equilibrium model, so we model a labor market and a market for final output. The representative household sells labor to the market and output is produced. The output is then purchased by government $(G)$ and the household $(C)$. There is one unit of time that the household must split between labor and leisure (as in the last section's example). The price of output is 1 (i.e. it is the numeraire good), the price of labor is the wage, $w$, and there is a productivity parameter, $z$. We will let $g$ stand for the exogenous level of government purchases. Let $\\tau$ represent the lump sum tax to finance government purchases. It must be the case that $g = \\tau$ (but for reasons that are best left to a macro course, we will keep them distinct in the statement of the problem).\n",
    "\n",
    "Keeping things as simple as possible, let the production function be linear in labor supply with the productivity multiplier:\n",
    "\n",
    "$$f(n) = zn$$\n",
    "\n",
    "Letting $u$ be the utility from consumption and leisure and letting $v$ be the utility from government spending, the household's problem is then\n",
    "\n",
    "$$\\max_{c,l} u(c,l)+v(g)$$\n",
    "subject to: $$c\\leq w(1-l)-\\tau$$\n",
    "\n",
    "The Lagrangian is\n",
    "\n",
    "$$L=u(c,l)+v(g)+\\lambda(w(1-l)-\\tau-c)$$\n",
    "\n",
    "Following the example of the last section, we can see that this implies that\n",
    "\n",
    "$$\\frac{\\partial u}{\\partial l}=w\\frac{\\partial u}{\\partial c}$$\n",
    "\n",
    "The firm's problem implies that $w = z$. (In class I will explain a bit more in case this is not clear.)\n",
    "\n",
    "A competitive equilibrium implies that\n",
    "1. The household chooses consumption and leisure to maximize utility given $w$ and $\\tau$.\n",
    "2. The firm maximizes profit choosing n given the wage.\n",
    "3. Markets clear\n",
    "4. Government spending equals tax revenue\n",
    "\n",
    "Now, let's put in a specific functional form for utility. Suppose that $u(c,l) = \\log c + \\log l$. Since we are not optimizing over $g$, we do not need to specify a form for $v$. As this is a fairly simple problem, we can substitute the constraint into the objective function (making use of the fact that $w = z$ and $g=\\tau$ in equilibrium) and simply solve this problem:\n",
    "\n",
    "$$\\max_l \\log(z(1-l)-g)+\\log l+v(g)$$\n",
    "\n",
    "For simplicity in the code, I will write $v(g)$ simply as a constant $v$ since $g$ is exogenous and thus disappears when we take the derivative. This is equivalent to assuming that $v$ is a constant function.\n",
    "\n"
   ]
  },
  {
   "cell_type": "code",
   "execution_count": null,
   "metadata": {},
   "outputs": [],
   "source": []
  }
 ],
 "metadata": {
  "kernelspec": {
   "display_name": "Python 3",
   "language": "python",
   "name": "python3"
  },
  "language_info": {
   "codemirror_mode": {
    "name": "ipython",
    "version": 3
   },
   "file_extension": ".py",
   "mimetype": "text/x-python",
   "name": "python",
   "nbconvert_exporter": "python",
   "pygments_lexer": "ipython3",
   "version": "3.7.4"
  }
 },
 "nbformat": 4,
 "nbformat_minor": 2
}
